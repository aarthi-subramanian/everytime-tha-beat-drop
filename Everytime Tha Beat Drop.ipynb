{
 "cells": [
  {
   "cell_type": "markdown",
   "metadata": {},
   "source": [
    "# Everytime Tha Beat Drop"
   ]
  },
  {
   "cell_type": "markdown",
   "metadata": {},
   "source": [
    "### Background\n",
    "\n",
    "Music streaming services like Pandora, Spotify, Tidal, Deezer contain huge libraries of music. This is great for users who search for songs or artists they like, but is difficult for new music discovery and users can be overwhelmed by the options.\n",
    "\n",
    "As a result, these companies try to build algorithms or recommenders to provide personal recommendations for new music. \n",
    "\n",
    "Here, we'll use data from The Echo Nest, a research group that has complied metadata on millions of tracks. We'll further supplement this dataset with further information on track characteristics. We'll try to leverage all of these attributes to build a few classification models to predict whether a track should be classified as genre \"hip-hop\" or \"rock\".\n",
    "\n",
    "<b>Key skills:</b> pandas data manipulation, matplotlib data visualisation, scikit-learn machine learning techniques (e.g. PCA, logistic regression, decision tree, balancing data, k-fold cross-validation)"
   ]
  },
  {
   "cell_type": "markdown",
   "metadata": {},
   "source": [
    "### 1) Data preparation"
   ]
  },
  {
   "cell_type": "code",
   "execution_count": 14,
   "metadata": {},
   "outputs": [],
   "source": [
    "import numpy as np\n",
    "import pandas as pd"
   ]
  },
  {
   "cell_type": "code",
   "execution_count": 15,
   "metadata": {},
   "outputs": [],
   "source": [
    "# Read track metadata with genre labels\n",
    "tracks = pd.read_csv(\"./datasets/fma-rock-vs-hiphop.csv\")"
   ]
  },
  {
   "cell_type": "code",
   "execution_count": 16,
   "metadata": {},
   "outputs": [],
   "source": [
    "# Read track metrics with the features\n",
    "echonest_metrics = pd.read_json(\"./datasets/echonest-metrics.json\", precise_float = True)"
   ]
  },
  {
   "cell_type": "code",
   "execution_count": 17,
   "metadata": {},
   "outputs": [
    {
     "name": "stdout",
     "output_type": "stream",
     "text": [
      "<class 'pandas.core.frame.DataFrame'>\n",
      "Int64Index: 4802 entries, 0 to 4801\n",
      "Data columns (total 10 columns):\n",
      " #   Column            Non-Null Count  Dtype  \n",
      "---  ------            --------------  -----  \n",
      " 0   track_id          4802 non-null   int64  \n",
      " 1   acousticness      4802 non-null   float64\n",
      " 2   danceability      4802 non-null   float64\n",
      " 3   energy            4802 non-null   float64\n",
      " 4   instrumentalness  4802 non-null   float64\n",
      " 5   liveness          4802 non-null   float64\n",
      " 6   speechiness       4802 non-null   float64\n",
      " 7   tempo             4802 non-null   float64\n",
      " 8   valence           4802 non-null   float64\n",
      " 9   genre_top         4802 non-null   object \n",
      "dtypes: float64(8), int64(1), object(1)\n",
      "memory usage: 412.7+ KB\n"
     ]
    }
   ],
   "source": [
    "# Merge the two\n",
    "echo_tracks = echonest_metrics.merge(tracks[['track_id', 'genre_top']], how='inner', on='track_id')\n",
    "\n",
    "# Have a look at the df\n",
    "echo_tracks.info()"
   ]
  },
  {
   "cell_type": "markdown",
   "metadata": {},
   "source": [
    "### 2) Understand pairwise relationships\n",
    "\n",
    "* In this project, we want to be mindful of <b>feature redundancy</b>. That is, we don't want to include variables that have strong correlations with each other.\n",
    "* This can keep the model simplistic and interpretable (using many features can run risk of overfitting).\n",
    "* This also reduces computation time; if the datasets are very large, they will have long runtime.\n",
    "\n",
    "So let's build a correlation matrix from the `pandas` package to see if there are any super strongly correlated features around."
   ]
  },
  {
   "cell_type": "code",
   "execution_count": 18,
   "metadata": {},
   "outputs": [
    {
     "data": {
      "text/html": [
       "<style  type=\"text/css\" >\n",
       "    #T_eae85190_3dc0_11eb_8b54_9801a7ce62afrow0_col0 {\n",
       "            background-color:  #023858;\n",
       "            color:  #f1f1f1;\n",
       "        }    #T_eae85190_3dc0_11eb_8b54_9801a7ce62afrow0_col1 {\n",
       "            background-color:  #fff7fb;\n",
       "            color:  #000000;\n",
       "        }    #T_eae85190_3dc0_11eb_8b54_9801a7ce62afrow0_col2 {\n",
       "            background-color:  #d2d2e7;\n",
       "            color:  #000000;\n",
       "        }    #T_eae85190_3dc0_11eb_8b54_9801a7ce62afrow0_col3 {\n",
       "            background-color:  #b5c4df;\n",
       "            color:  #000000;\n",
       "        }    #T_eae85190_3dc0_11eb_8b54_9801a7ce62afrow0_col4 {\n",
       "            background-color:  #f5eef6;\n",
       "            color:  #000000;\n",
       "        }    #T_eae85190_3dc0_11eb_8b54_9801a7ce62afrow0_col5 {\n",
       "            background-color:  #e9e5f1;\n",
       "            color:  #000000;\n",
       "        }    #T_eae85190_3dc0_11eb_8b54_9801a7ce62afrow0_col6 {\n",
       "            background-color:  #d1d2e6;\n",
       "            color:  #000000;\n",
       "        }    #T_eae85190_3dc0_11eb_8b54_9801a7ce62afrow0_col7 {\n",
       "            background-color:  #e1dfed;\n",
       "            color:  #000000;\n",
       "        }    #T_eae85190_3dc0_11eb_8b54_9801a7ce62afrow0_col8 {\n",
       "            background-color:  #dedcec;\n",
       "            color:  #000000;\n",
       "        }    #T_eae85190_3dc0_11eb_8b54_9801a7ce62afrow1_col0 {\n",
       "            background-color:  #fff7fb;\n",
       "            color:  #000000;\n",
       "        }    #T_eae85190_3dc0_11eb_8b54_9801a7ce62afrow1_col1 {\n",
       "            background-color:  #023858;\n",
       "            color:  #f1f1f1;\n",
       "        }    #T_eae85190_3dc0_11eb_8b54_9801a7ce62afrow1_col2 {\n",
       "            background-color:  #e0dded;\n",
       "            color:  #000000;\n",
       "        }    #T_eae85190_3dc0_11eb_8b54_9801a7ce62afrow1_col3 {\n",
       "            background-color:  #fff7fb;\n",
       "            color:  #000000;\n",
       "        }    #T_eae85190_3dc0_11eb_8b54_9801a7ce62afrow1_col4 {\n",
       "            background-color:  #97b7d7;\n",
       "            color:  #000000;\n",
       "        }    #T_eae85190_3dc0_11eb_8b54_9801a7ce62afrow1_col5 {\n",
       "            background-color:  #f3edf5;\n",
       "            color:  #000000;\n",
       "        }    #T_eae85190_3dc0_11eb_8b54_9801a7ce62afrow1_col6 {\n",
       "            background-color:  #b8c6e0;\n",
       "            color:  #000000;\n",
       "        }    #T_eae85190_3dc0_11eb_8b54_9801a7ce62afrow1_col7 {\n",
       "            background-color:  #e1dfed;\n",
       "            color:  #000000;\n",
       "        }    #T_eae85190_3dc0_11eb_8b54_9801a7ce62afrow1_col8 {\n",
       "            background-color:  #e2dfee;\n",
       "            color:  #000000;\n",
       "        }    #T_eae85190_3dc0_11eb_8b54_9801a7ce62afrow2_col0 {\n",
       "            background-color:  #bdc8e1;\n",
       "            color:  #000000;\n",
       "        }    #T_eae85190_3dc0_11eb_8b54_9801a7ce62afrow2_col1 {\n",
       "            background-color:  #d0d1e6;\n",
       "            color:  #000000;\n",
       "        }    #T_eae85190_3dc0_11eb_8b54_9801a7ce62afrow2_col2 {\n",
       "            background-color:  #023858;\n",
       "            color:  #f1f1f1;\n",
       "        }    #T_eae85190_3dc0_11eb_8b54_9801a7ce62afrow2_col3 {\n",
       "            background-color:  #fbf3f9;\n",
       "            color:  #000000;\n",
       "        }    #T_eae85190_3dc0_11eb_8b54_9801a7ce62afrow2_col4 {\n",
       "            background-color:  #f3edf5;\n",
       "            color:  #000000;\n",
       "        }    #T_eae85190_3dc0_11eb_8b54_9801a7ce62afrow2_col5 {\n",
       "            background-color:  #fff7fb;\n",
       "            color:  #000000;\n",
       "        }    #T_eae85190_3dc0_11eb_8b54_9801a7ce62afrow2_col6 {\n",
       "            background-color:  #80aed2;\n",
       "            color:  #000000;\n",
       "        }    #T_eae85190_3dc0_11eb_8b54_9801a7ce62afrow2_col7 {\n",
       "            background-color:  #fff7fb;\n",
       "            color:  #000000;\n",
       "        }    #T_eae85190_3dc0_11eb_8b54_9801a7ce62afrow2_col8 {\n",
       "            background-color:  #529bc7;\n",
       "            color:  #000000;\n",
       "        }    #T_eae85190_3dc0_11eb_8b54_9801a7ce62afrow3_col0 {\n",
       "            background-color:  #a7bddb;\n",
       "            color:  #000000;\n",
       "        }    #T_eae85190_3dc0_11eb_8b54_9801a7ce62afrow3_col1 {\n",
       "            background-color:  #f5eff6;\n",
       "            color:  #000000;\n",
       "        }    #T_eae85190_3dc0_11eb_8b54_9801a7ce62afrow3_col2 {\n",
       "            background-color:  #fef6fa;\n",
       "            color:  #000000;\n",
       "        }    #T_eae85190_3dc0_11eb_8b54_9801a7ce62afrow3_col3 {\n",
       "            background-color:  #023858;\n",
       "            color:  #f1f1f1;\n",
       "        }    #T_eae85190_3dc0_11eb_8b54_9801a7ce62afrow3_col4 {\n",
       "            background-color:  #c4cbe3;\n",
       "            color:  #000000;\n",
       "        }    #T_eae85190_3dc0_11eb_8b54_9801a7ce62afrow3_col5 {\n",
       "            background-color:  #dcdaeb;\n",
       "            color:  #000000;\n",
       "        }    #T_eae85190_3dc0_11eb_8b54_9801a7ce62afrow3_col6 {\n",
       "            background-color:  #dedcec;\n",
       "            color:  #000000;\n",
       "        }    #T_eae85190_3dc0_11eb_8b54_9801a7ce62afrow3_col7 {\n",
       "            background-color:  #adc1dd;\n",
       "            color:  #000000;\n",
       "        }    #T_eae85190_3dc0_11eb_8b54_9801a7ce62afrow3_col8 {\n",
       "            background-color:  #d9d8ea;\n",
       "            color:  #000000;\n",
       "        }    #T_eae85190_3dc0_11eb_8b54_9801a7ce62afrow4_col0 {\n",
       "            background-color:  #f4eef6;\n",
       "            color:  #000000;\n",
       "        }    #T_eae85190_3dc0_11eb_8b54_9801a7ce62afrow4_col1 {\n",
       "            background-color:  #97b7d7;\n",
       "            color:  #000000;\n",
       "        }    #T_eae85190_3dc0_11eb_8b54_9801a7ce62afrow4_col2 {\n",
       "            background-color:  #fff7fb;\n",
       "            color:  #000000;\n",
       "        }    #T_eae85190_3dc0_11eb_8b54_9801a7ce62afrow4_col3 {\n",
       "            background-color:  #d2d3e7;\n",
       "            color:  #000000;\n",
       "        }    #T_eae85190_3dc0_11eb_8b54_9801a7ce62afrow4_col4 {\n",
       "            background-color:  #023858;\n",
       "            color:  #f1f1f1;\n",
       "        }    #T_eae85190_3dc0_11eb_8b54_9801a7ce62afrow4_col5 {\n",
       "            background-color:  #fdf5fa;\n",
       "            color:  #000000;\n",
       "        }    #T_eae85190_3dc0_11eb_8b54_9801a7ce62afrow4_col6 {\n",
       "            background-color:  #fff7fb;\n",
       "            color:  #000000;\n",
       "        }    #T_eae85190_3dc0_11eb_8b54_9801a7ce62afrow4_col7 {\n",
       "            background-color:  #d9d8ea;\n",
       "            color:  #000000;\n",
       "        }    #T_eae85190_3dc0_11eb_8b54_9801a7ce62afrow4_col8 {\n",
       "            background-color:  #fff7fb;\n",
       "            color:  #000000;\n",
       "        }    #T_eae85190_3dc0_11eb_8b54_9801a7ce62afrow5_col0 {\n",
       "            background-color:  #bdc8e1;\n",
       "            color:  #000000;\n",
       "        }    #T_eae85190_3dc0_11eb_8b54_9801a7ce62afrow5_col1 {\n",
       "            background-color:  #ced0e6;\n",
       "            color:  #000000;\n",
       "        }    #T_eae85190_3dc0_11eb_8b54_9801a7ce62afrow5_col2 {\n",
       "            background-color:  #ede8f3;\n",
       "            color:  #000000;\n",
       "        }    #T_eae85190_3dc0_11eb_8b54_9801a7ce62afrow5_col3 {\n",
       "            background-color:  #bdc8e1;\n",
       "            color:  #000000;\n",
       "        }    #T_eae85190_3dc0_11eb_8b54_9801a7ce62afrow5_col4 {\n",
       "            background-color:  #dbdaeb;\n",
       "            color:  #000000;\n",
       "        }    #T_eae85190_3dc0_11eb_8b54_9801a7ce62afrow5_col5 {\n",
       "            background-color:  #023858;\n",
       "            color:  #f1f1f1;\n",
       "        }    #T_eae85190_3dc0_11eb_8b54_9801a7ce62afrow5_col6 {\n",
       "            background-color:  #c0c9e2;\n",
       "            color:  #000000;\n",
       "        }    #T_eae85190_3dc0_11eb_8b54_9801a7ce62afrow5_col7 {\n",
       "            background-color:  #dcdaeb;\n",
       "            color:  #000000;\n",
       "        }    #T_eae85190_3dc0_11eb_8b54_9801a7ce62afrow5_col8 {\n",
       "            background-color:  #e8e4f0;\n",
       "            color:  #000000;\n",
       "        }    #T_eae85190_3dc0_11eb_8b54_9801a7ce62afrow6_col0 {\n",
       "            background-color:  #d0d1e6;\n",
       "            color:  #000000;\n",
       "        }    #T_eae85190_3dc0_11eb_8b54_9801a7ce62afrow6_col1 {\n",
       "            background-color:  #b8c6e0;\n",
       "            color:  #000000;\n",
       "        }    #T_eae85190_3dc0_11eb_8b54_9801a7ce62afrow6_col2 {\n",
       "            background-color:  #93b5d6;\n",
       "            color:  #000000;\n",
       "        }    #T_eae85190_3dc0_11eb_8b54_9801a7ce62afrow6_col3 {\n",
       "            background-color:  #eae6f1;\n",
       "            color:  #000000;\n",
       "        }    #T_eae85190_3dc0_11eb_8b54_9801a7ce62afrow6_col4 {\n",
       "            background-color:  #fff7fb;\n",
       "            color:  #000000;\n",
       "        }    #T_eae85190_3dc0_11eb_8b54_9801a7ce62afrow6_col5 {\n",
       "            background-color:  #eae6f1;\n",
       "            color:  #000000;\n",
       "        }    #T_eae85190_3dc0_11eb_8b54_9801a7ce62afrow6_col6 {\n",
       "            background-color:  #023858;\n",
       "            color:  #f1f1f1;\n",
       "        }    #T_eae85190_3dc0_11eb_8b54_9801a7ce62afrow6_col7 {\n",
       "            background-color:  #dbdaeb;\n",
       "            color:  #000000;\n",
       "        }    #T_eae85190_3dc0_11eb_8b54_9801a7ce62afrow6_col8 {\n",
       "            background-color:  #bfc9e1;\n",
       "            color:  #000000;\n",
       "        }    #T_eae85190_3dc0_11eb_8b54_9801a7ce62afrow7_col0 {\n",
       "            background-color:  #d0d1e6;\n",
       "            color:  #000000;\n",
       "        }    #T_eae85190_3dc0_11eb_8b54_9801a7ce62afrow7_col1 {\n",
       "            background-color:  #d0d1e6;\n",
       "            color:  #000000;\n",
       "        }    #T_eae85190_3dc0_11eb_8b54_9801a7ce62afrow7_col2 {\n",
       "            background-color:  #fef6fa;\n",
       "            color:  #000000;\n",
       "        }    #T_eae85190_3dc0_11eb_8b54_9801a7ce62afrow7_col3 {\n",
       "            background-color:  #a7bddb;\n",
       "            color:  #000000;\n",
       "        }    #T_eae85190_3dc0_11eb_8b54_9801a7ce62afrow7_col4 {\n",
       "            background-color:  #c5cce3;\n",
       "            color:  #000000;\n",
       "        }    #T_eae85190_3dc0_11eb_8b54_9801a7ce62afrow7_col5 {\n",
       "            background-color:  #f0eaf4;\n",
       "            color:  #000000;\n",
       "        }    #T_eae85190_3dc0_11eb_8b54_9801a7ce62afrow7_col6 {\n",
       "            background-color:  #c8cde4;\n",
       "            color:  #000000;\n",
       "        }    #T_eae85190_3dc0_11eb_8b54_9801a7ce62afrow7_col7 {\n",
       "            background-color:  #023858;\n",
       "            color:  #f1f1f1;\n",
       "        }    #T_eae85190_3dc0_11eb_8b54_9801a7ce62afrow7_col8 {\n",
       "            background-color:  #d6d6e9;\n",
       "            color:  #000000;\n",
       "        }    #T_eae85190_3dc0_11eb_8b54_9801a7ce62afrow8_col0 {\n",
       "            background-color:  #c6cce3;\n",
       "            color:  #000000;\n",
       "        }    #T_eae85190_3dc0_11eb_8b54_9801a7ce62afrow8_col1 {\n",
       "            background-color:  #cdd0e5;\n",
       "            color:  #000000;\n",
       "        }    #T_eae85190_3dc0_11eb_8b54_9801a7ce62afrow8_col2 {\n",
       "            background-color:  #4c99c5;\n",
       "            color:  #000000;\n",
       "        }    #T_eae85190_3dc0_11eb_8b54_9801a7ce62afrow8_col3 {\n",
       "            background-color:  #d1d2e6;\n",
       "            color:  #000000;\n",
       "        }    #T_eae85190_3dc0_11eb_8b54_9801a7ce62afrow8_col4 {\n",
       "            background-color:  #efe9f3;\n",
       "            color:  #000000;\n",
       "        }    #T_eae85190_3dc0_11eb_8b54_9801a7ce62afrow8_col5 {\n",
       "            background-color:  #f7f0f7;\n",
       "            color:  #000000;\n",
       "        }    #T_eae85190_3dc0_11eb_8b54_9801a7ce62afrow8_col6 {\n",
       "            background-color:  #a5bddb;\n",
       "            color:  #000000;\n",
       "        }    #T_eae85190_3dc0_11eb_8b54_9801a7ce62afrow8_col7 {\n",
       "            background-color:  #d3d4e7;\n",
       "            color:  #000000;\n",
       "        }    #T_eae85190_3dc0_11eb_8b54_9801a7ce62afrow8_col8 {\n",
       "            background-color:  #023858;\n",
       "            color:  #f1f1f1;\n",
       "        }</style><table id=\"T_eae85190_3dc0_11eb_8b54_9801a7ce62af\" ><thead>    <tr>        <th class=\"blank level0\" ></th>        <th class=\"col_heading level0 col0\" >track_id</th>        <th class=\"col_heading level0 col1\" >acousticness</th>        <th class=\"col_heading level0 col2\" >danceability</th>        <th class=\"col_heading level0 col3\" >energy</th>        <th class=\"col_heading level0 col4\" >instrumentalness</th>        <th class=\"col_heading level0 col5\" >liveness</th>        <th class=\"col_heading level0 col6\" >speechiness</th>        <th class=\"col_heading level0 col7\" >tempo</th>        <th class=\"col_heading level0 col8\" >valence</th>    </tr></thead><tbody>\n",
       "                <tr>\n",
       "                        <th id=\"T_eae85190_3dc0_11eb_8b54_9801a7ce62aflevel0_row0\" class=\"row_heading level0 row0\" >track_id</th>\n",
       "                        <td id=\"T_eae85190_3dc0_11eb_8b54_9801a7ce62afrow0_col0\" class=\"data row0 col0\" >1.000000</td>\n",
       "                        <td id=\"T_eae85190_3dc0_11eb_8b54_9801a7ce62afrow0_col1\" class=\"data row0 col1\" >-0.372282</td>\n",
       "                        <td id=\"T_eae85190_3dc0_11eb_8b54_9801a7ce62afrow0_col2\" class=\"data row0 col2\" >0.049454</td>\n",
       "                        <td id=\"T_eae85190_3dc0_11eb_8b54_9801a7ce62afrow0_col3\" class=\"data row0 col3\" >0.140703</td>\n",
       "                        <td id=\"T_eae85190_3dc0_11eb_8b54_9801a7ce62afrow0_col4\" class=\"data row0 col4\" >-0.275623</td>\n",
       "                        <td id=\"T_eae85190_3dc0_11eb_8b54_9801a7ce62afrow0_col5\" class=\"data row0 col5\" >0.048231</td>\n",
       "                        <td id=\"T_eae85190_3dc0_11eb_8b54_9801a7ce62afrow0_col6\" class=\"data row0 col6\" >-0.026995</td>\n",
       "                        <td id=\"T_eae85190_3dc0_11eb_8b54_9801a7ce62afrow0_col7\" class=\"data row0 col7\" >-0.025392</td>\n",
       "                        <td id=\"T_eae85190_3dc0_11eb_8b54_9801a7ce62afrow0_col8\" class=\"data row0 col8\" >0.010070</td>\n",
       "            </tr>\n",
       "            <tr>\n",
       "                        <th id=\"T_eae85190_3dc0_11eb_8b54_9801a7ce62aflevel0_row1\" class=\"row_heading level0 row1\" >acousticness</th>\n",
       "                        <td id=\"T_eae85190_3dc0_11eb_8b54_9801a7ce62afrow1_col0\" class=\"data row1 col0\" >-0.372282</td>\n",
       "                        <td id=\"T_eae85190_3dc0_11eb_8b54_9801a7ce62afrow1_col1\" class=\"data row1 col1\" >1.000000</td>\n",
       "                        <td id=\"T_eae85190_3dc0_11eb_8b54_9801a7ce62afrow1_col2\" class=\"data row1 col2\" >-0.028954</td>\n",
       "                        <td id=\"T_eae85190_3dc0_11eb_8b54_9801a7ce62afrow1_col3\" class=\"data row1 col3\" >-0.281619</td>\n",
       "                        <td id=\"T_eae85190_3dc0_11eb_8b54_9801a7ce62afrow1_col4\" class=\"data row1 col4\" >0.194780</td>\n",
       "                        <td id=\"T_eae85190_3dc0_11eb_8b54_9801a7ce62afrow1_col5\" class=\"data row1 col5\" >-0.019991</td>\n",
       "                        <td id=\"T_eae85190_3dc0_11eb_8b54_9801a7ce62afrow1_col6\" class=\"data row1 col6\" >0.072204</td>\n",
       "                        <td id=\"T_eae85190_3dc0_11eb_8b54_9801a7ce62afrow1_col7\" class=\"data row1 col7\" >-0.026310</td>\n",
       "                        <td id=\"T_eae85190_3dc0_11eb_8b54_9801a7ce62afrow1_col8\" class=\"data row1 col8\" >-0.013841</td>\n",
       "            </tr>\n",
       "            <tr>\n",
       "                        <th id=\"T_eae85190_3dc0_11eb_8b54_9801a7ce62aflevel0_row2\" class=\"row_heading level0 row2\" >danceability</th>\n",
       "                        <td id=\"T_eae85190_3dc0_11eb_8b54_9801a7ce62afrow2_col0\" class=\"data row2 col0\" >0.049454</td>\n",
       "                        <td id=\"T_eae85190_3dc0_11eb_8b54_9801a7ce62afrow2_col1\" class=\"data row2 col1\" >-0.028954</td>\n",
       "                        <td id=\"T_eae85190_3dc0_11eb_8b54_9801a7ce62afrow2_col2\" class=\"data row2 col2\" >1.000000</td>\n",
       "                        <td id=\"T_eae85190_3dc0_11eb_8b54_9801a7ce62afrow2_col3\" class=\"data row2 col3\" >-0.242032</td>\n",
       "                        <td id=\"T_eae85190_3dc0_11eb_8b54_9801a7ce62afrow2_col4\" class=\"data row2 col4\" >-0.255217</td>\n",
       "                        <td id=\"T_eae85190_3dc0_11eb_8b54_9801a7ce62afrow2_col5\" class=\"data row2 col5\" >-0.106584</td>\n",
       "                        <td id=\"T_eae85190_3dc0_11eb_8b54_9801a7ce62afrow2_col6\" class=\"data row2 col6\" >0.276206</td>\n",
       "                        <td id=\"T_eae85190_3dc0_11eb_8b54_9801a7ce62afrow2_col7\" class=\"data row2 col7\" >-0.242089</td>\n",
       "                        <td id=\"T_eae85190_3dc0_11eb_8b54_9801a7ce62afrow2_col8\" class=\"data row2 col8\" >0.473165</td>\n",
       "            </tr>\n",
       "            <tr>\n",
       "                        <th id=\"T_eae85190_3dc0_11eb_8b54_9801a7ce62aflevel0_row3\" class=\"row_heading level0 row3\" >energy</th>\n",
       "                        <td id=\"T_eae85190_3dc0_11eb_8b54_9801a7ce62afrow3_col0\" class=\"data row3 col0\" >0.140703</td>\n",
       "                        <td id=\"T_eae85190_3dc0_11eb_8b54_9801a7ce62afrow3_col1\" class=\"data row3 col1\" >-0.281619</td>\n",
       "                        <td id=\"T_eae85190_3dc0_11eb_8b54_9801a7ce62afrow3_col2\" class=\"data row3 col2\" >-0.242032</td>\n",
       "                        <td id=\"T_eae85190_3dc0_11eb_8b54_9801a7ce62afrow3_col3\" class=\"data row3 col3\" >1.000000</td>\n",
       "                        <td id=\"T_eae85190_3dc0_11eb_8b54_9801a7ce62afrow3_col4\" class=\"data row3 col4\" >0.028238</td>\n",
       "                        <td id=\"T_eae85190_3dc0_11eb_8b54_9801a7ce62afrow3_col5\" class=\"data row3 col5\" >0.113331</td>\n",
       "                        <td id=\"T_eae85190_3dc0_11eb_8b54_9801a7ce62afrow3_col6\" class=\"data row3 col6\" >-0.109983</td>\n",
       "                        <td id=\"T_eae85190_3dc0_11eb_8b54_9801a7ce62afrow3_col7\" class=\"data row3 col7\" >0.195227</td>\n",
       "                        <td id=\"T_eae85190_3dc0_11eb_8b54_9801a7ce62afrow3_col8\" class=\"data row3 col8\" >0.038603</td>\n",
       "            </tr>\n",
       "            <tr>\n",
       "                        <th id=\"T_eae85190_3dc0_11eb_8b54_9801a7ce62aflevel0_row4\" class=\"row_heading level0 row4\" >instrumentalness</th>\n",
       "                        <td id=\"T_eae85190_3dc0_11eb_8b54_9801a7ce62afrow4_col0\" class=\"data row4 col0\" >-0.275623</td>\n",
       "                        <td id=\"T_eae85190_3dc0_11eb_8b54_9801a7ce62afrow4_col1\" class=\"data row4 col1\" >0.194780</td>\n",
       "                        <td id=\"T_eae85190_3dc0_11eb_8b54_9801a7ce62afrow4_col2\" class=\"data row4 col2\" >-0.255217</td>\n",
       "                        <td id=\"T_eae85190_3dc0_11eb_8b54_9801a7ce62afrow4_col3\" class=\"data row4 col3\" >0.028238</td>\n",
       "                        <td id=\"T_eae85190_3dc0_11eb_8b54_9801a7ce62afrow4_col4\" class=\"data row4 col4\" >1.000000</td>\n",
       "                        <td id=\"T_eae85190_3dc0_11eb_8b54_9801a7ce62afrow4_col5\" class=\"data row4 col5\" >-0.091022</td>\n",
       "                        <td id=\"T_eae85190_3dc0_11eb_8b54_9801a7ce62afrow4_col6\" class=\"data row4 col6\" >-0.366762</td>\n",
       "                        <td id=\"T_eae85190_3dc0_11eb_8b54_9801a7ce62afrow4_col7\" class=\"data row4 col7\" >0.022215</td>\n",
       "                        <td id=\"T_eae85190_3dc0_11eb_8b54_9801a7ce62afrow4_col8\" class=\"data row4 col8\" >-0.219967</td>\n",
       "            </tr>\n",
       "            <tr>\n",
       "                        <th id=\"T_eae85190_3dc0_11eb_8b54_9801a7ce62aflevel0_row5\" class=\"row_heading level0 row5\" >liveness</th>\n",
       "                        <td id=\"T_eae85190_3dc0_11eb_8b54_9801a7ce62afrow5_col0\" class=\"data row5 col0\" >0.048231</td>\n",
       "                        <td id=\"T_eae85190_3dc0_11eb_8b54_9801a7ce62afrow5_col1\" class=\"data row5 col1\" >-0.019991</td>\n",
       "                        <td id=\"T_eae85190_3dc0_11eb_8b54_9801a7ce62afrow5_col2\" class=\"data row5 col2\" >-0.106584</td>\n",
       "                        <td id=\"T_eae85190_3dc0_11eb_8b54_9801a7ce62afrow5_col3\" class=\"data row5 col3\" >0.113331</td>\n",
       "                        <td id=\"T_eae85190_3dc0_11eb_8b54_9801a7ce62afrow5_col4\" class=\"data row5 col4\" >-0.091022</td>\n",
       "                        <td id=\"T_eae85190_3dc0_11eb_8b54_9801a7ce62afrow5_col5\" class=\"data row5 col5\" >1.000000</td>\n",
       "                        <td id=\"T_eae85190_3dc0_11eb_8b54_9801a7ce62afrow5_col6\" class=\"data row5 col6\" >0.041173</td>\n",
       "                        <td id=\"T_eae85190_3dc0_11eb_8b54_9801a7ce62afrow5_col7\" class=\"data row5 col7\" >0.002732</td>\n",
       "                        <td id=\"T_eae85190_3dc0_11eb_8b54_9801a7ce62afrow5_col8\" class=\"data row5 col8\" >-0.045093</td>\n",
       "            </tr>\n",
       "            <tr>\n",
       "                        <th id=\"T_eae85190_3dc0_11eb_8b54_9801a7ce62aflevel0_row6\" class=\"row_heading level0 row6\" >speechiness</th>\n",
       "                        <td id=\"T_eae85190_3dc0_11eb_8b54_9801a7ce62afrow6_col0\" class=\"data row6 col0\" >-0.026995</td>\n",
       "                        <td id=\"T_eae85190_3dc0_11eb_8b54_9801a7ce62afrow6_col1\" class=\"data row6 col1\" >0.072204</td>\n",
       "                        <td id=\"T_eae85190_3dc0_11eb_8b54_9801a7ce62afrow6_col2\" class=\"data row6 col2\" >0.276206</td>\n",
       "                        <td id=\"T_eae85190_3dc0_11eb_8b54_9801a7ce62afrow6_col3\" class=\"data row6 col3\" >-0.109983</td>\n",
       "                        <td id=\"T_eae85190_3dc0_11eb_8b54_9801a7ce62afrow6_col4\" class=\"data row6 col4\" >-0.366762</td>\n",
       "                        <td id=\"T_eae85190_3dc0_11eb_8b54_9801a7ce62afrow6_col5\" class=\"data row6 col5\" >0.041173</td>\n",
       "                        <td id=\"T_eae85190_3dc0_11eb_8b54_9801a7ce62afrow6_col6\" class=\"data row6 col6\" >1.000000</td>\n",
       "                        <td id=\"T_eae85190_3dc0_11eb_8b54_9801a7ce62afrow6_col7\" class=\"data row6 col7\" >0.008241</td>\n",
       "                        <td id=\"T_eae85190_3dc0_11eb_8b54_9801a7ce62afrow6_col8\" class=\"data row6 col8\" >0.149894</td>\n",
       "            </tr>\n",
       "            <tr>\n",
       "                        <th id=\"T_eae85190_3dc0_11eb_8b54_9801a7ce62aflevel0_row7\" class=\"row_heading level0 row7\" >tempo</th>\n",
       "                        <td id=\"T_eae85190_3dc0_11eb_8b54_9801a7ce62afrow7_col0\" class=\"data row7 col0\" >-0.025392</td>\n",
       "                        <td id=\"T_eae85190_3dc0_11eb_8b54_9801a7ce62afrow7_col1\" class=\"data row7 col1\" >-0.026310</td>\n",
       "                        <td id=\"T_eae85190_3dc0_11eb_8b54_9801a7ce62afrow7_col2\" class=\"data row7 col2\" >-0.242089</td>\n",
       "                        <td id=\"T_eae85190_3dc0_11eb_8b54_9801a7ce62afrow7_col3\" class=\"data row7 col3\" >0.195227</td>\n",
       "                        <td id=\"T_eae85190_3dc0_11eb_8b54_9801a7ce62afrow7_col4\" class=\"data row7 col4\" >0.022215</td>\n",
       "                        <td id=\"T_eae85190_3dc0_11eb_8b54_9801a7ce62afrow7_col5\" class=\"data row7 col5\" >0.002732</td>\n",
       "                        <td id=\"T_eae85190_3dc0_11eb_8b54_9801a7ce62afrow7_col6\" class=\"data row7 col6\" >0.008241</td>\n",
       "                        <td id=\"T_eae85190_3dc0_11eb_8b54_9801a7ce62afrow7_col7\" class=\"data row7 col7\" >1.000000</td>\n",
       "                        <td id=\"T_eae85190_3dc0_11eb_8b54_9801a7ce62afrow7_col8\" class=\"data row7 col8\" >0.052221</td>\n",
       "            </tr>\n",
       "            <tr>\n",
       "                        <th id=\"T_eae85190_3dc0_11eb_8b54_9801a7ce62aflevel0_row8\" class=\"row_heading level0 row8\" >valence</th>\n",
       "                        <td id=\"T_eae85190_3dc0_11eb_8b54_9801a7ce62afrow8_col0\" class=\"data row8 col0\" >0.010070</td>\n",
       "                        <td id=\"T_eae85190_3dc0_11eb_8b54_9801a7ce62afrow8_col1\" class=\"data row8 col1\" >-0.013841</td>\n",
       "                        <td id=\"T_eae85190_3dc0_11eb_8b54_9801a7ce62afrow8_col2\" class=\"data row8 col2\" >0.473165</td>\n",
       "                        <td id=\"T_eae85190_3dc0_11eb_8b54_9801a7ce62afrow8_col3\" class=\"data row8 col3\" >0.038603</td>\n",
       "                        <td id=\"T_eae85190_3dc0_11eb_8b54_9801a7ce62afrow8_col4\" class=\"data row8 col4\" >-0.219967</td>\n",
       "                        <td id=\"T_eae85190_3dc0_11eb_8b54_9801a7ce62afrow8_col5\" class=\"data row8 col5\" >-0.045093</td>\n",
       "                        <td id=\"T_eae85190_3dc0_11eb_8b54_9801a7ce62afrow8_col6\" class=\"data row8 col6\" >0.149894</td>\n",
       "                        <td id=\"T_eae85190_3dc0_11eb_8b54_9801a7ce62afrow8_col7\" class=\"data row8 col7\" >0.052221</td>\n",
       "                        <td id=\"T_eae85190_3dc0_11eb_8b54_9801a7ce62afrow8_col8\" class=\"data row8 col8\" >1.000000</td>\n",
       "            </tr>\n",
       "    </tbody></table>"
      ],
      "text/plain": [
       "<pandas.io.formats.style.Styler at 0x1a17962b50>"
      ]
     },
     "execution_count": 18,
     "metadata": {},
     "output_type": "execute_result"
    }
   ],
   "source": [
    "# Create a correlation matrix\n",
    "corr_metrics = echo_tracks.corr()\n",
    "corr_metrics.style.background_gradient() # pandas guy"
   ]
  },
  {
   "cell_type": "markdown",
   "metadata": {},
   "source": [
    "When looking at the above matrix, looks like there aren't any super correlated variables woo. We can continue."
   ]
  },
  {
   "cell_type": "markdown",
   "metadata": {},
   "source": [
    "### 3) Principal Component Analysis (PCA) \n",
    "\n",
    "* We can use a common technique to reduce the number of features in the dataset to those that are most important: <b>Principal Component Analysis (PCA)</b>. \n",
    "* Using PCA as a dimenionality reduction method becomes more important when there are hundreds of features and it won't be efficient to include all in the model; reducing the feature list will improve computation and performance metrics on the model(s).\n",
    "* Furthermore, it could be possible that the variance between the 2 genres is explained by just a few features.\n",
    "* PCA rotates the data along the axis of highest variance and so allows us to understand the relative contribution of each feature towards the variance between classes."
   ]
  },
  {
   "cell_type": "markdown",
   "metadata": {},
   "source": [
    "#### 3A) Normalise our data\n",
    "\n",
    "* However, since PCA uses the <b>absolute variance</b> of a feature to rotate the data, one feature with a broad range of values will overpower and thus bias the algorithm, relative to other features. To remove this, we must normalise our data.\n",
    "* There are a few ways to normalise our data, we'll use the common <b>standardisation </b> method, where all features have a mean=0 and standard deviation = 1 (result is a z-score)"
   ]
  },
  {
   "cell_type": "code",
   "execution_count": 19,
   "metadata": {},
   "outputs": [],
   "source": [
    "# Define the features \n",
    "features = echo_tracks.drop(['genre_top', 'track_id'], axis=1) # axis=1 to drop values from columns\n",
    "\n",
    "# Define the labels\n",
    "labels = echo_tracks['genre_top']"
   ]
  },
  {
   "cell_type": "code",
   "execution_count": 20,
   "metadata": {},
   "outputs": [],
   "source": [
    "from sklearn.preprocessing import StandardScaler \n",
    "\n",
    "# Scale the features and set the values to a new variable\n",
    "scaler = StandardScaler() # defining an instance of the standard scaler\n",
    "scaled_train_features = scaler.fit_transform(features) # scale the features"
   ]
  },
  {
   "cell_type": "markdown",
   "metadata": {},
   "source": [
    "#### 3B) Determine number of components\n",
    "\n",
    "* Now that our data is scaled, we next determine the number of components with which to run PCA. Once this is done, we run PCA using this X number of components and will ideally reduce the dimensionality of our data ay.\n",
    "* We can leverage <b>scree-plots</b> and <b>cumulative explained variance plots</b> to identify the number of components.\n",
    "* Scree-plots show the number of components against the variance explained by each component and sorts this in descending order of variance.\n",
    "* Scree-plots help show which components explain a sufficient amounf of variance in our data.\n",
    "* Within a scree-plot, we locate the \"elbow\" (a dramatic drop from one data point to the next) to determine the appropriate cutoff.\n",
    "* Cumulative explained variance plots can show how many features are required to explain e.g. 85% of the variance (you can assign an arbitrary cutoff for now!)"
   ]
  },
  {
   "cell_type": "markdown",
   "metadata": {},
   "source": [
    "Scree-plot"
   ]
  },
  {
   "cell_type": "code",
   "execution_count": 21,
   "metadata": {},
   "outputs": [
    {
     "name": "stdout",
     "output_type": "stream",
     "text": [
      "[0.24297674 0.18044316 0.13650309 0.12994089 0.11056248 0.08302245\n",
      " 0.06923783 0.04731336]\n",
      "8\n"
     ]
    },
    {
     "data": {
      "text/plain": [
       "Text(0.5, 0, 'Principal Component #')"
      ]
     },
     "execution_count": 21,
     "metadata": {},
     "output_type": "execute_result"
    },
    {
     "data": {
      "image/png": "[encoded data removed]",
      "text/plain": [
       "<Figure size 432x288 with 1 Axes>"
      ]
     },
     "metadata": {
      "needs_background": "light"
     },
     "output_type": "display_data"
    },
    {
     "data": {
      "image/png": "[encoded data removed]",
      "text/plain": [
       "<Figure size 432x288 with 1 Axes>"
      ]
     },
     "metadata": {
      "needs_background": "light"
     },
     "output_type": "display_data"
    }
   ],
   "source": [
    "# This is just to make plots appear in the notebook\n",
    "%matplotlib inline\n",
    "\n",
    "# Import our plotting module, and PCA class\n",
    "import matplotlib.pyplot as plt\n",
    "from sklearn.decomposition import PCA\n",
    "\n",
    "# Get our explained variance ratios from PCA using all features\n",
    "pca = PCA() # create PCA class; no args means run on all features \n",
    "pca.fit(scaled_train_features) # fit model on our train features\n",
    "\n",
    "exp_variance = pca.explained_variance_ratio_\n",
    "num_components = pca.n_components_\n",
    "print(exp_variance)\n",
    "print(num_components)\n",
    "\n",
    "# plot the explained variance using a barplot\n",
    "fig, ax = plt.subplots()\n",
    "ax.bar(range(num_components), exp_variance) # number of components X explained variance\n",
    "ax.set_xlabel('Principal Component #')\n",
    "\n",
    "# plot the explained variance using a screeplot\n",
    "fig, ax = plt.subplots()\n",
    "ax.plot(range(num_components), exp_variance) # number of components X explained variance\n",
    "ax.set_xlabel('Principal Component #')"
   ]
  },
  {
   "cell_type": "markdown",
   "metadata": {},
   "source": [
    "In the above scree-plot, we don't seem to see a clear elbow! So we may need more help to identify the number of intrinsic components. Let's try a cumulative explained variance plot."
   ]
  },
  {
   "cell_type": "markdown",
   "metadata": {},
   "source": [
    "Cumulative explained variance plot"
   ]
  },
  {
   "cell_type": "code",
   "execution_count": 22,
   "metadata": {},
   "outputs": [
    {
     "data": {
      "image/png": "[encoded data removed]",
      "text/plain": [
       "<Figure size 432x288 with 1 Axes>"
      ]
     },
     "metadata": {
      "needs_background": "light"
     },
     "output_type": "display_data"
    }
   ],
   "source": [
    "# Calculate the cumulative explained variance\n",
    "cum_exp_variance = np.cumsum(exp_variance) # cumulative sum\n",
    "\n",
    "# Plot the cumulative explained variance and draw a dashed line at 0.85.\n",
    "fig, ax = plt.subplots()\n",
    "ax.plot(range(num_components), cum_exp_variance)\n",
    "ax.axhline(y=0.85, linestyle='--')\n",
    "\n",
    "# # choose the n_components where about 85% of our variance can be explained\n",
    "n_components = 6 # between 4 and 5 but must be an integer"
   ]
  },
  {
   "cell_type": "markdown",
   "metadata": {},
   "source": [
    "#### 3C) Run PCA"
   ]
  },
  {
   "cell_type": "code",
   "execution_count": 24,
   "metadata": {},
   "outputs": [],
   "source": [
    "# Perform PCA with the chosen number of components and project data onto components\n",
    "pca = PCA(n_components, random_state=10)\n",
    "pca.fit(scaled_train_features)\n",
    "pca_projection = pca.transform(scaled_train_features)"
   ]
  },
  {
   "cell_type": "markdown",
   "metadata": {},
   "source": [
    "We are now ready to try some models! We will model on this new `pca_projection` dataset."
   ]
  },
  {
   "cell_type": "markdown",
   "metadata": {},
   "source": [
    "### 4) Train a decision tree to classify the genre\n",
    "\n",
    "* Moving forward, we'll point to the `pca_projection` dataset.\n",
    "* We'll first split our data into train and test sets; the train set will be used to train our model, and the test set will be used for performance validation.\n",
    "* We'll start with a simple <b>decision tree</b> model. Decision trees are rule-based classifiers, and take in features following a tree-like structure. Binary decisions are made to classify a data point into two or more groupings.\n",
    "* Decision trees are relatively straightforward to use and interpret, and can help us visualise a logical flowchart for the decisioning."
   ]
  },
  {
   "cell_type": "code",
   "execution_count": 25,
   "metadata": {},
   "outputs": [],
   "source": [
    "# Import train_test_split function and Decision tree classifier\n",
    "from sklearn.model_selection import train_test_split\n",
    "from sklearn.tree import DecisionTreeClassifier\n",
    "\n",
    "# Split our data\n",
    "train_features, test_features, train_labels, test_labels = train_test_split(\n",
    "    pca_projection, labels, random_state=10)"
   ]
  },
  {
   "cell_type": "code",
   "execution_count": 26,
   "metadata": {},
   "outputs": [],
   "source": [
    "# Train our decision tree\n",
    "tree = DecisionTreeClassifier(random_state=10)\n",
    "tree.fit(train_features, train_labels)\n",
    "\n",
    "# Predict the labels for the test data\n",
    "pred_labels_tree = tree.predict(test_features)"
   ]
  },
  {
   "cell_type": "markdown",
   "metadata": {},
   "source": [
    "### 5) Compare decision tree to a logistic regression model\n",
    "\n",
    "* Although our decision tree's model performance is alright, it's a good idea to test out some other models to see which is the best fit for our given data.\n",
    "* <b>Logistic Regression</b> is a simple model; it leverages the logistic function to calculate the probability that a given data point belongs to a given class.\n",
    "* We can compare both models using some performance metrics."
   ]
  },
  {
   "cell_type": "code",
   "execution_count": 27,
   "metadata": {},
   "outputs": [],
   "source": [
    "# Import LogisticRegression\n",
    "from sklearn.linear_model import LogisticRegression\n",
    "\n",
    "# Train our logistic regression and predict labels for the test set\n",
    "logreg = LogisticRegression(random_state=10)\n",
    "logreg.fit(train_features, train_labels)\n",
    "pred_labels_logit = logreg.predict(test_features)"
   ]
  },
  {
   "cell_type": "code",
   "execution_count": 28,
   "metadata": {},
   "outputs": [
    {
     "name": "stdout",
     "output_type": "stream",
     "text": [
      "Decision Tree: \n",
      "               precision    recall  f1-score   support\n",
      "\n",
      "     Hip-Hop       0.60      0.60      0.60       235\n",
      "        Rock       0.90      0.90      0.90       966\n",
      "\n",
      "    accuracy                           0.84      1201\n",
      "   macro avg       0.75      0.75      0.75      1201\n",
      "weighted avg       0.84      0.84      0.84      1201\n",
      "\n",
      "Logistic Regression: \n",
      "               precision    recall  f1-score   support\n",
      "\n",
      "     Hip-Hop       0.77      0.54      0.64       235\n",
      "        Rock       0.90      0.96      0.93       966\n",
      "\n",
      "    accuracy                           0.88      1201\n",
      "   macro avg       0.83      0.75      0.78      1201\n",
      "weighted avg       0.87      0.88      0.87      1201\n",
      "\n"
     ]
    }
   ],
   "source": [
    "# Create the classification report for both models\n",
    "from sklearn.metrics import classification_report\n",
    "class_rep_tree = classification_report(test_labels, pred_labels_tree)\n",
    "class_rep_log = classification_report(test_labels, pred_labels_logit)\n",
    "\n",
    "print(\"Decision Tree: \\n\", class_rep_tree)\n",
    "print(\"Logistic Regression: \\n\", class_rep_log)"
   ]
  },
  {
   "cell_type": "markdown",
   "metadata": {},
   "source": [
    "* Both models seem to perform similarly based on our performance metrics; they have a mean precision of ~87%.\n",
    "* However, it looks like rock tracks are classified well, but hip-hop tracks are disproportionately misclassified as rock tracks.\n",
    "* Actually, it looks like there are many more records for the rock classification than the hip-hop classification; this potentially skews our model's ability to discern between the 2 classes. This also means that most of our model's accuracty is driven by its ability to classify rock only. This is not great."
   ]
  },
  {
   "cell_type": "markdown",
   "metadata": {},
   "source": [
    "### 6) Balance our data\n",
    "* To address the problems outlined above, we can weight the value of a correct classification inversely to the occurence of data points for each class. \n",
    "* Since a correct \"Rock\" classification is not more important than a correct \"Hip-Hop\" classification, we only need to address for differences in sample size of our data points when weighting classes (not relative importance).\n",
    "* Here we will balance our data, then retry our models and metrics."
   ]
  },
  {
   "cell_type": "code",
   "execution_count": 29,
   "metadata": {},
   "outputs": [],
   "source": [
    "# Subset only the hip-hop tracks, and then only the rock tracks\n",
    "hop_only = echo_tracks.loc[echo_tracks['genre_top'] == 'Hip-Hop']\n",
    "rock_only = echo_tracks.loc[echo_tracks['genre_top'] == 'Rock']\n",
    "\n",
    "# sample the rocks songs to be the same number as there are hip-hop songs\n",
    "rock_only = rock_only.sample(hop_only.shape[0], random_state=10)\n",
    "\n",
    "# concatenate the dataframes rock_only and hop_only\n",
    "rock_hop_bal = pd.concat([rock_only,hop_only])\n",
    "\n",
    "# The features, labels, and pca projection are created for the balanced dataframe\n",
    "features = rock_hop_bal.drop(['genre_top', 'track_id'], axis=1) \n",
    "labels = rock_hop_bal['genre_top']\n",
    "pca_projection = pca.fit_transform(scaler.fit_transform(features))"
   ]
  },
  {
   "cell_type": "code",
   "execution_count": 30,
   "metadata": {},
   "outputs": [],
   "source": [
    "# Redefine the train and test set with the pca_projection from the balanced data\n",
    "train_features, test_features, train_labels, test_labels = train_test_split(\n",
    "    pca_projection, labels, random_state=10)"
   ]
  },
  {
   "cell_type": "markdown",
   "metadata": {},
   "source": [
    "### 7) Does balancing our dataset improve model metrics and bias?\n",
    "\n",
    "* Now that we've balanced our dataset, we've removed many records. \n",
    "* However, these may have been crucial to model training. So let's see if balancing out data improves model bias towards \"Rock\" while retaining overall performance.\n",
    "* Note: We will move forward without dimensionality reduction on this step. In practice, we would consider applying PCA again, especially when handling very large datasets and computation is important to consider."
   ]
  },
  {
   "cell_type": "code",
   "execution_count": 34,
   "metadata": {},
   "outputs": [],
   "source": [
    "# Train our decision tree on the balanced data\n",
    "tree = DecisionTreeClassifier(random_state=10)\n",
    "tree.fit(train_features, train_labels)\n",
    "pred_labels_tree = tree.predict(test_features)"
   ]
  },
  {
   "cell_type": "code",
   "execution_count": 35,
   "metadata": {},
   "outputs": [],
   "source": [
    "# Train our logistic regression on the balanced data\n",
    "logreg = LogisticRegression(random_state=10)\n",
    "logreg.fit(train_features, train_labels)\n",
    "pred_labels_logit = logreg.predict(test_features)"
   ]
  },
  {
   "cell_type": "code",
   "execution_count": 36,
   "metadata": {},
   "outputs": [
    {
     "name": "stdout",
     "output_type": "stream",
     "text": [
      "Decision Tree: \n",
      "               precision    recall  f1-score   support\n",
      "\n",
      "     Hip-Hop       0.74      0.73      0.74       230\n",
      "        Rock       0.73      0.74      0.73       225\n",
      "\n",
      "    accuracy                           0.74       455\n",
      "   macro avg       0.74      0.74      0.74       455\n",
      "weighted avg       0.74      0.74      0.74       455\n",
      "\n",
      "Logistic Regression: \n",
      "               precision    recall  f1-score   support\n",
      "\n",
      "     Hip-Hop       0.84      0.80      0.82       230\n",
      "        Rock       0.80      0.85      0.83       225\n",
      "\n",
      "    accuracy                           0.82       455\n",
      "   macro avg       0.82      0.82      0.82       455\n",
      "weighted avg       0.82      0.82      0.82       455\n",
      "\n"
     ]
    }
   ],
   "source": [
    "# Compare the models\n",
    "print(\"Decision Tree: \\n\", classification_report(test_labels, pred_labels_tree))\n",
    "print(\"Logistic Regression: \\n\", classification_report(test_labels, pred_labels_logit))"
   ]
  },
  {
   "cell_type": "markdown",
   "metadata": {},
   "source": [
    "Ayy! Looks like balancing our data removed bias towards th emore prevalent class."
   ]
  },
  {
   "cell_type": "markdown",
   "metadata": {},
   "source": [
    "### Apply cross-validation for model evaluation\n",
    "\n",
    "* To udnerstand how well our models are actually performing, we can apply <b>cross-validation (CV)</b>. This helps us compare models more rigorously.\n",
    "* CV attempts to split our data multiple ways and test the model on each split.\n",
    "* There are many CV methods, each with different benefits and drawbacks.\n",
    "* Here, we will use <b>K-fold cross-validation</b>. In this method, we first split the data into K different, equally-sized subsets. Then it takes each subset, iteratively, and uses it as a test set whilst using the remainder data as train. Finally, we aggegate the results from each \"fold\" to provide a summary model performance score."
   ]
  },
  {
   "cell_type": "code",
   "execution_count": 37,
   "metadata": {},
   "outputs": [
    {
     "name": "stdout",
     "output_type": "stream",
     "text": [
      "Decision Tree: 0.7489010989010989 Logistic Regression: 0.782967032967033\n"
     ]
    }
   ],
   "source": [
    "from sklearn.model_selection import KFold, cross_val_score\n",
    "\n",
    "# Set up our K-fold CV\n",
    "kf = KFold(n_splits=10)\n",
    "\n",
    "tree = DecisionTreeClassifier(random_state=10)\n",
    "logreg = LogisticRegression(random_state=10)\n",
    "\n",
    "# Train our models using K-fold CV\n",
    "tree_score = cross_val_score(tree, pca_projection, labels, cv=kf)\n",
    "logit_score = cross_val_score(logreg, pca_projection, labels, cv=kf)\n",
    "\n",
    "# Print the mean of each array of scores\n",
    "print(\"Decision Tree:\", tree_score.mean(), \"Logistic Regression:\", logit_score.mean())"
   ]
  },
  {
   "cell_type": "markdown",
   "metadata": {},
   "source": [
    "Thanks!"
   ]
  }
 ],
 "metadata": {
  "kernelspec": {
   "display_name": "Python 3",
   "language": "python",
   "name": "python3"
  },
  "language_info": {
   "codemirror_mode": {
    "name": "ipython",
    "version": 3
   },
   "file_extension": ".py",
   "mimetype": "text/x-python",
   "name": "python",
   "nbconvert_exporter": "python",
   "pygments_lexer": "ipython3",
   "version": "3.7.6"
  }
 },
 "nbformat": 4,
 "nbformat_minor": 4
}
